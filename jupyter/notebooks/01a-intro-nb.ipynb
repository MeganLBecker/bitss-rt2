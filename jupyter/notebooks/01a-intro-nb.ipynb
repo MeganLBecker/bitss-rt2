{
 "cells": [
  {
   "cell_type": "code",
   "execution_count": 2,
   "metadata": {
    "collapsed": true
   },
   "outputs": [
    {
     "ename": "SyntaxError",
     "evalue": "invalid syntax (<ipython-input-2-bf6dbcb67e4b>, line 1)",
     "output_type": "error",
     "traceback": [
      "\u001b[0;36m  File \u001b[0;32m\"<ipython-input-2-bf6dbcb67e4b>\"\u001b[0;36m, line \u001b[0;32m1\u001b[0m\n\u001b[0;31m    $ jupyter notebook\u001b[0m\n\u001b[0m    ^\u001b[0m\n\u001b[0;31mSyntaxError\u001b[0m\u001b[0;31m:\u001b[0m invalid syntax\n"
     ]
    }
   ],
   "source": [
    "$ jupyter notebook"
   ]
  },
  {
   "cell_type": "markdown",
   "metadata": {},
   "source": [
    "This will start a Jupyter Notebook server and open your default web browser.\n",
    "\n",
    "What happens is this:\n",
    "\n",
    "1.   The server runs locally on your machine only and does not use an internet connection.\n",
    "1.  The server sends messages to your browser.\n",
    "1.   The server does the work and the web browser renders the notebook.\n",
    "1.   You can type code into the browser and see the result when the web page talks to the server.\n",
    "\n",
    "*   This has several advantages:\n",
    "    *   You can easily type, edit, and copy and paste blocks of code.\n",
    "    *   Tab complete allows you to easily access the names of things you are using\n",
    "        and learn more about them.\n",
    "    *   It allows you to annotate your code with links, different sized text, bullets, etc.\n",
    "        to make it more accessible to you and your collaborators.\n",
    "    *   It allows you to display figures next to the code that produces them\n",
    "        to tell a complete story of the analysis.\n",
    "\n",
    "![Example Jupyter Notebook](../images/0_jupyter_notebook_example.jpg)  \n",
    "*Screenshot of a [Jupyter Notebook on quantum mechanics](https://github.com/jrjohansson/qutip-lectures) by Robert Johansson*\n",
    "\n",
    "> ## How It's Stored\n",
    ">\n",
    "> *   The notebook file is stored in a format called **JSON**.\n",
    "> *   Just like a webpage, what's saved looks different from what you see in your browser.\n",
    "> *   But this format allows Jupyter to mix source code, text, and images, all in one file.\n",
    "{: .callout}\n",
    "\n",
    "## The Notebook has Command and Edit modes.\n",
    "\n",
    "*   Open a new notebook from the dropdown menu (that says 'New') in the top right corner of the file browser page.\n",
    "*   Each notebook contains one or more cells that contain code, text, or images.\n",
    "\n",
    "> ## Code vs. Text\n",
    ">\n",
    "> We often use the term \"code\" to mean\n",
    "> \"the source code of software written in a language such as Python\".\n",
    "> A \"code cell\" in a Notebook is a cell that contains software;\n",
    "> a \"text cell\" is one that contains ordinary prose written for human beings.\n",
    "{: .callout}\n",
    "\n",
    "*   If you press <kbd>esc</kbd> and <kbd>return</kbd> alternately,\n",
    "    the outer border of your code cell will change from gray/blue to green.\n",
    "    *   The difference in color is subtle.\n",
    "*   These are the command (gray) and edit (green) modes of your notebook.\n",
    "*   In command mode, pressing the <kbd>H</kbd> key will provide\n",
    "    a list of all the shortcut keys.\n",
    "*   Command mode allows you to edit notebook-level features, and edit mode changes the content of cells.\n",
    "*   When in command mode (esc/gray),\n",
    "    *   The <kbd>B</kbd> key will make a new cell below the currently selected cell.\n",
    "    *   The <kbd>A</kbd> key will make one above.\n",
    "    *   The <kbd>X</kbd> key will delete the current cell.\n",
    "    *   The <kbd>Z</kbd> key will undo your last cell deletion.\n",
    "*   All actions can be done using the menus,\n",
    "    but there are lots of keyboard shortcuts to speed things up.\n",
    "*   If you remember the <kbd>esc</kbd> and <kbd>H</kbd> shortcut, you will be able to find out all the rest.\n",
    "\n",
    "> ## Command Vs. Edit\n",
    ">\n",
    "> In the Jupyter notebook page are you currently in command or edit mode?  \n",
    "> Switch between the modes.\n",
    "> Use the shortcuts to generate a new cell.\n",
    "> Use the shortcuts to delete a cell\n",
    ">\n",
    "> > ## Solution\n",
    "> >\n",
    "> > Command mode has a grey boarder and Edit mode has a green border.\n",
    "> > Use <kbd>esc</kbd> and <kbd>enter</kbd> to switch between modes.\n",
    "> > You need to be in command mode (Hit <kbd>esc</kbd> if your cell is green).  Type <kbd>B</kbd> or <kbd>A</kbd>.\n",
    "> > You need to be in command mode (Hit <kbd>esc</kbd> if your cell is green).  Type <kbd>X</kbd>.\n",
    "> >\n",
    "> {: .solution}\n",
    "{: .challenge}\n",
    "\n",
    "## Use the keyboard and mouse to select and edit cells.\n",
    "\n",
    "*   Pressing the <kbd>return</kbd> key turns the border green and engages edit mode,\n",
    "    which allows you to type within the cell.\n",
    "*   Because we want to be able to write many lines of code in a single cell,\n",
    "    pressing the <kbd>return</kbd> key when in edit mode (green) moves the cursor to the next line in the cell just like in a text editor.\n",
    "*   We need some other way to tell the Notebook we want to run what's in the cell.\n",
    "*   Pressing the <kbd>shift</kbd> and the <kbd>enter</kbd> key together will execute the contents of the cell.\n",
    "*   Notice that the <kbd>return</kbd> and <kbd>shift</kbd> keys on the\n",
    "    right of the keyboard are right next to each other.\n",
    "\n",
    "## The Notebook will turn Markdown into pretty-printed documentation.\n",
    "\n",
    "*   Notebooks can also render [Markdown][markdown].\n",
    "    *   A simple plain-text format for writing lists, links,\n",
    "        and other things that might go into a web page.\n",
    "    *   Equivalently, a subset of HTML that looks like what you'd send in an old-fashioned email.\n",
    "*   Turn the current cell into a Markdown cell by entering\n",
    "    the command mode (esc/gray) and press the <kbd>M</kbd> key.\n",
    "*   `In [ ]:` will disappear to show it is no longer a code cell\n",
    "    and you will be able to write in Markdown.\n",
    "*   Turn the current cell into a Code cell\n",
    "    by entering the command mode (esc/gray) and press the <kbd>Y</kbd> key.\n",
    "\n",
    "## Markdown does most of what HTML does.\n",
    "\n",
    "<div class=\"row\">\n",
    "  <div class=\"col-md-6\" markdown=\"1\">"
   ]
  },
  {
   "cell_type": "code",
   "execution_count": null,
   "metadata": {},
   "outputs": [],
   "source": [
    "*   Use asterisks\n",
    "*   to create\n",
    "*   bullet lists."
   ]
  },
  {
   "cell_type": "markdown",
   "metadata": {},
   "source": [
    "</div>\n",
    "  <div class=\"col-md-6\" markdown=\"1\">\n",
    "*   Use asterisks\n",
    "*   to create\n",
    "*   bullet lists.\n",
    "  </div>\n",
    "</div>\n",
    "\n",
    "<div class=\"row\">\n",
    "  <div class=\"col-md-6\" markdown=\"1\">"
   ]
  },
  {
   "cell_type": "code",
   "execution_count": null,
   "metadata": {},
   "outputs": [],
   "source": [
    "1.  Use numbers\n",
    "1.  to create\n",
    "1.  numbered lists."
   ]
  },
  {
   "cell_type": "markdown",
   "metadata": {},
   "source": [
    "</div>\n",
    "  <div class=\"col-md-6\" markdown=\"1\">\n",
    "1.  Use numbers\n",
    "1.  to create\n",
    "1.  numbered lists.\n",
    "  </div>\n",
    "</div>\n",
    "\n",
    "<div class=\"row\">\n",
    "  <div class=\"col-md-6\" markdown=\"1\">"
   ]
  },
  {
   "cell_type": "code",
   "execution_count": null,
   "metadata": {},
   "outputs": [],
   "source": [
    "*  You can use indents\n",
    "\t*  To create sublists\n",
    "\t*  of the same type\n",
    "*  Or sublists\n",
    "\t1. Of different\n",
    "\t1. types"
   ]
  },
  {
   "cell_type": "markdown",
   "metadata": {},
   "source": [
    "</div>\n",
    "  <div class=\"col-md-6\" markdown=\"1\">\n",
    "*  You can use indents\n",
    "\t*  To create sublists\n",
    "\t*  of the same type\n",
    "*  Or sublists\n",
    "\t1. Of different\n",
    "\t1. types\n",
    "  </div>\n",
    "</div>\n",
    "\n",
    "<div class=\"row\">\n",
    "  <div class=\"col-md-6\" markdown=\"1\">"
   ]
  },
  {
   "cell_type": "code",
   "execution_count": null,
   "metadata": {},
   "outputs": [],
   "source": [
    "# A Level-1 Heading"
   ]
  },
  {
   "cell_type": "markdown",
   "metadata": {},
   "source": [
    "</div>\n",
    "  <div class=\"col-md-6\" markdown=\"1\">\n",
    "# A Level-1 Heading\n",
    "  </div>\n",
    "</div>\n",
    "\n",
    "<div class=\"row\">\n",
    "  <div class=\"col-md-6\" markdown=\"1\">"
   ]
  },
  {
   "cell_type": "code",
   "execution_count": null,
   "metadata": {},
   "outputs": [],
   "source": [
    "## A Level-2 Heading (etc.)"
   ]
  },
  {
   "cell_type": "markdown",
   "metadata": {},
   "source": [
    "</div>\n",
    "  <div class=\"col-md-6\" markdown=\"1\">\n",
    "## A Level-2 Heading (etc.)\n",
    "  </div>\n",
    "</div>\n",
    "\n",
    "<div class=\"row\">\n",
    "  <div class=\"col-md-6\" markdown=\"1\">"
   ]
  },
  {
   "cell_type": "code",
   "execution_count": null,
   "metadata": {},
   "outputs": [],
   "source": [
    "Line breaks\n",
    "don't matter.\n",
    "\n",
    "But blank lines\n",
    "create new paragraphs."
   ]
  },
  {
   "cell_type": "markdown",
   "metadata": {},
   "source": [
    "</div>\n",
    "  <div class=\"col-md-6\" markdown=\"1\">\n",
    "Line breaks\n",
    "don't matter.\n",
    "\n",
    "But blank lines\n",
    "create new paragraphs.\n",
    "  </div>\n",
    "</div>\n",
    "\n",
    "<div class=\"row\">\n",
    "  <div class=\"col-md-6\" markdown=\"1\">"
   ]
  },
  {
   "cell_type": "code",
   "execution_count": null,
   "metadata": {},
   "outputs": [],
   "source": [
    "[Create links](http://software-carpentry.org) with `[...](...)`.\n",
    "Or use [named links][data_carpentry].\n",
    "\n",
    "[data_carpentry]: http://datacarpentry.org"
   ]
  },
  {
   "cell_type": "markdown",
   "metadata": {},
   "source": [
    "</div>\n",
    "  <div class=\"col-md-6\" markdown=\"1\">\n",
    "[Create links](http://software-carpentry.org) with `[...](...)`.\n",
    "Or use [named links][data_carpentry].\n",
    "\n",
    "[data_carpentry]: http://datacarpentry.org\n",
    "  </div>\n",
    "</div>\n",
    "\n",
    "> ## Creating Lists in Markdown\n",
    ">\n",
    "> Create a nested list in a Markdown cell in a notebook that looks like this:\n",
    ">\n",
    "> 1.  Get funding.\n",
    "> 2.  Do work.\n",
    ">     *   Design experiment.\n",
    ">     *   Collect data.\n",
    ">     *   Analyze.\n",
    "> 3.  Write up.\n",
    "> 4.  Publish.\n",
    ">\n",
    "> > ## Solution\n",
    "> >\n",
    "> > This challenge integrates both the numbered list and bullet list.\n",
    "> > Note that the bullet list is indented 2 spaces so that it is inline with the items of the numbered list.\n",
    "> > ~~~\n",
    "> > 1.  Get funding.\n",
    "> > 2.  Do work.\n",
    "> >     *   Design experiment.\n",
    "> >     *   Collect data.\n",
    "> >     *   Analyze.\n",
    "> > 3.  Write up.\n",
    "> > 4.  Publish.\n",
    "> > ~~~\n",
    "> {: .solution}\n",
    "{: .challenge}\n",
    "\n",
    "> ## More Math\n",
    ">\n",
    "> What is displayed when a Python cell in a notebook\n",
    "> that contains several calculations is executed?\n",
    "> For example, what happens when this cell is executed?\n",
    ">\n",
    "> ~~~\n",
    "> 7 * 3\n",
    "> 2 + 1\n",
    "> ~~~\n",
    "> {: .language-python}\n",
    ">\n",
    "> > ## Solution\n",
    "> >\n",
    "> > Python returns the output of the last calculation.\n",
    "> > ~~~\n",
    "> > 3\n",
    "> > ~~~\n",
    "> > {: .language-python}\n",
    "> {: .solution}\n",
    "{: .challenge}\n",
    "\n",
    "> ## Change an Existing Cell from Code to Markdown\n",
    ">\n",
    "> What happens if you write some Python in a code cell\n",
    "> and then you switch it to a Markdown cell?\n",
    "> For example,\n",
    "> put the following in a code cell:\n",
    ">\n",
    "> ~~~\n",
    "> x = 6 * 7 + 12\n",
    "> print(x)\n",
    "> ~~~\n",
    "> {: .language-python}\n",
    ">\n",
    "> And then run it with <kbd>shift</kbd>+<kbd>return</kbd> to be sure that it works as a code cell.\n",
    "> Now go back to the cell and use <kbd>escape</kbd>+<kbd>M</kbd> to switch the cell to Markdown\n",
    "> and \"run\" it with <kbd>shift</kbd>+<kbd>return</kbd>.\n",
    "> What happened and how might this be useful?\n",
    ">\n",
    "> > ## Solution\n",
    "> >\n",
    "> > The Python code gets treated like markdown text.\n",
    "> > The lines appear as if they are part of one contiguous paragraph.\n",
    "> > This could be useful to temporarily turn on and off cells in notebooks that get used for multiple purposes.\n",
    "> > ~~~\n",
    "> > x = 6 * 7 + 12 print(x)\n",
    "> > ~~~\n",
    "> > {: .language-python}\n",
    "> {: .solution}\n",
    "{: .challenge}\n",
    "\n",
    "> ## Equations\n",
    ">\n",
    "> Standard Markdown (such as we're using for these notes) won't render equations,\n",
    "> but the Notebook will.\n",
    "> Create a new Markdown cell\n",
    "> and enter the following:\n",
    ">\n",
    "> ~~~\n",
    "> $\\sum_{i=1}^{N} 2^{-i} \\approx 1$\n",
    "> ~~~\n",
    ">\n",
    "> (It's probably easier to copy and paste.)\n",
    "> What does it display?\n",
    "> What do you think the underscore, `_`, circumflex, `^`, and dollar sign, `$`, do?\n",
    ">\n",
    "> > ## Solution\n",
    "> >\n",
    "> > The notebook shows the equation as it would be rendered from latex equation syntax.\n",
    "> > The dollar sign, `$`, is used to tell markdown that the text in between is a latex equation.\n",
    "> > If you're not familiar with latex,  underscore, `_`, is used for subscripts and circumflex, `^`, is used for superscripts.\n",
    "> > A pair of curly braces, `{` and `}`, is used to group text together so that the statement `i=1` becomes the the subscript and `N` becomes the superscript.\n",
    "> > Similarly, `-i` is in curly braces to make the whole statement the superscript for `2`.\n",
    "> > `\\sum` and `\\approx` are latex commands for \"sum over\" and \"approximate\" symbols.\n",
    "> {: .solution}\n",
    "{: .challenge}\n",
    "\n",
    "[anaconda]: https://docs.continuum.io/anaconda/install\n",
    "[jupyter]: http://jupyter.org/\n",
    "[markdown]: https://en.wikipedia.org/wiki/Markdown\n",
    "\n",
    "\n",
    "## Introduction to Python built-in data types\n",
    "\n",
    "### Strings, integers and floats\n",
    "\n",
    "The most basic data types in Python are strings, integers and floats:"
   ]
  },
  {
   "cell_type": "code",
   "execution_count": null,
   "metadata": {},
   "outputs": [],
   "source": [
    "text = \"Library Carpentry\"\n",
    "number = 42\n",
    "pi_value = 3.1415"
   ]
  },
  {
   "cell_type": "markdown",
   "metadata": {},
   "source": [
    "{: .source}\n",
    "\n",
    "Here we've assigned data to variables, namely `text`, `number` and `pi_value`,\n",
    "using the assignment operator `=`. The variable called `text` is a string which\n",
    "means it can contain text characters such as letters and numbers. We could reassign the variable `text`\n",
    "to an integer too - but be careful reassigning variables as this can get\n",
    "confusing.\n",
    "\n",
    "To print out the value stored in a variable we can simply type the name of the\n",
    "variable into the interpreter:"
   ]
  },
  {
   "cell_type": "code",
   "execution_count": null,
   "metadata": {},
   "outputs": [],
   "source": [
    "text"
   ]
  },
  {
   "cell_type": "markdown",
   "metadata": {},
   "source": [
    "{: .source}"
   ]
  },
  {
   "cell_type": "code",
   "execution_count": null,
   "metadata": {},
   "outputs": [],
   "source": [
    "\"Library Carpentry\""
   ]
  },
  {
   "cell_type": "markdown",
   "metadata": {},
   "source": [
    "{: .output}\n",
    "\n",
    "However, in scripts we must use the `print` function:"
   ]
  },
  {
   "cell_type": "code",
   "execution_count": null,
   "metadata": {},
   "outputs": [],
   "source": [
    "# Comments start with #\n",
    "# Next line will print out text\n",
    "print(text)"
   ]
  },
  {
   "cell_type": "markdown",
   "metadata": {},
   "source": [
    "{: .source}"
   ]
  },
  {
   "cell_type": "code",
   "execution_count": null,
   "metadata": {},
   "outputs": [],
   "source": [
    "\"Library Carpentry\""
   ]
  },
  {
   "cell_type": "markdown",
   "metadata": {},
   "source": [
    "{: .output}\n",
    "\n",
    "### Operators\n",
    "\n",
    "We can perform mathematical calculations in Python using the basic operators\n",
    " `+, -, /, *, %`:"
   ]
  },
  {
   "cell_type": "code",
   "execution_count": null,
   "metadata": {},
   "outputs": [],
   "source": [
    "2 + 2"
   ]
  },
  {
   "cell_type": "markdown",
   "metadata": {},
   "source": [
    "{: .source}"
   ]
  },
  {
   "cell_type": "code",
   "execution_count": null,
   "metadata": {},
   "outputs": [],
   "source": [
    "4"
   ]
  },
  {
   "cell_type": "markdown",
   "metadata": {},
   "source": [
    "{: .output}"
   ]
  },
  {
   "cell_type": "code",
   "execution_count": null,
   "metadata": {},
   "outputs": [],
   "source": [
    "6 * 7"
   ]
  },
  {
   "cell_type": "markdown",
   "metadata": {},
   "source": [
    "{: .source}"
   ]
  },
  {
   "cell_type": "code",
   "execution_count": null,
   "metadata": {},
   "outputs": [],
   "source": [
    "42"
   ]
  },
  {
   "cell_type": "markdown",
   "metadata": {},
   "source": [
    "{: .output}"
   ]
  },
  {
   "cell_type": "code",
   "execution_count": null,
   "metadata": {},
   "outputs": [],
   "source": [
    "2 ** 16  # power"
   ]
  },
  {
   "cell_type": "markdown",
   "metadata": {},
   "source": [
    "{: .source}"
   ]
  },
  {
   "cell_type": "code",
   "execution_count": null,
   "metadata": {},
   "outputs": [],
   "source": [
    "65536"
   ]
  },
  {
   "cell_type": "markdown",
   "metadata": {},
   "source": [
    "{: .output}"
   ]
  },
  {
   "cell_type": "code",
   "execution_count": null,
   "metadata": {},
   "outputs": [],
   "source": [
    "13 % 5  # modulo"
   ]
  },
  {
   "cell_type": "markdown",
   "metadata": {},
   "source": [
    "{: .source}"
   ]
  },
  {
   "cell_type": "code",
   "execution_count": null,
   "metadata": {},
   "outputs": [],
   "source": [
    "3"
   ]
  },
  {
   "cell_type": "markdown",
   "metadata": {},
   "source": [
    "{: .output}\n",
    "\n",
    "We can also use comparison and logic operators:\n",
    "`<, >, ==, !=, <=, >=` etc.\n",
    "`and, or, not`"
   ]
  },
  {
   "cell_type": "code",
   "execution_count": null,
   "metadata": {},
   "outputs": [],
   "source": [
    "3 > 4"
   ]
  },
  {
   "cell_type": "markdown",
   "metadata": {},
   "source": [
    "{: .source}"
   ]
  },
  {
   "cell_type": "code",
   "execution_count": null,
   "metadata": {},
   "outputs": [],
   "source": [
    "False"
   ]
  },
  {
   "cell_type": "markdown",
   "metadata": {},
   "source": [
    "{: .output}"
   ]
  },
  {
   "cell_type": "code",
   "execution_count": null,
   "metadata": {},
   "outputs": [],
   "source": [
    "6 != 7"
   ]
  },
  {
   "cell_type": "markdown",
   "metadata": {},
   "source": [
    "{: .source}"
   ]
  },
  {
   "cell_type": "code",
   "execution_count": null,
   "metadata": {},
   "outputs": [],
   "source": [
    "True"
   ]
  },
  {
   "cell_type": "markdown",
   "metadata": {},
   "source": [
    "{: .output}"
   ]
  },
  {
   "cell_type": "code",
   "execution_count": null,
   "metadata": {},
   "outputs": [],
   "source": [
    "3 == 3"
   ]
  },
  {
   "cell_type": "markdown",
   "metadata": {},
   "source": [
    "{: .source}"
   ]
  },
  {
   "cell_type": "code",
   "execution_count": null,
   "metadata": {},
   "outputs": [],
   "source": [
    "True"
   ]
  },
  {
   "cell_type": "markdown",
   "metadata": {},
   "source": [
    "{: .output}"
   ]
  },
  {
   "cell_type": "code",
   "execution_count": null,
   "metadata": {},
   "outputs": [],
   "source": [
    "True and True"
   ]
  },
  {
   "cell_type": "markdown",
   "metadata": {},
   "source": [
    "{: .source}"
   ]
  },
  {
   "cell_type": "code",
   "execution_count": null,
   "metadata": {},
   "outputs": [],
   "source": [
    "True"
   ]
  },
  {
   "cell_type": "markdown",
   "metadata": {},
   "source": [
    "{: .output}"
   ]
  },
  {
   "cell_type": "code",
   "execution_count": null,
   "metadata": {},
   "outputs": [],
   "source": [
    "True or False"
   ]
  },
  {
   "cell_type": "markdown",
   "metadata": {},
   "source": [
    "{: .source}"
   ]
  },
  {
   "cell_type": "code",
   "execution_count": null,
   "metadata": {},
   "outputs": [],
   "source": [
    "True"
   ]
  },
  {
   "cell_type": "markdown",
   "metadata": {},
   "source": [
    "{: .output}\n",
    "\n",
    "## Sequential types: Lists and Tuples\n",
    "\n",
    "### Lists\n",
    "\n",
    "**Lists** are a common data structure to hold an ordered sequence of\n",
    "elements. Each element can be accessed by an index, where the first element is 0, the second element is 1, and so on:"
   ]
  },
  {
   "cell_type": "code",
   "execution_count": null,
   "metadata": {},
   "outputs": [],
   "source": [
    "numbers = [1,2,3]\n",
    "numbers[0]"
   ]
  },
  {
   "cell_type": "markdown",
   "metadata": {},
   "source": [
    "{: .source}"
   ]
  },
  {
   "cell_type": "code",
   "execution_count": null,
   "metadata": {},
   "outputs": [],
   "source": [
    "1"
   ]
  },
  {
   "cell_type": "markdown",
   "metadata": {},
   "source": [
    "{: .output}\n",
    "\n",
    "A `for` loop can be used to access the elements in a list or other Python data\n",
    "structure one at a time:"
   ]
  },
  {
   "cell_type": "code",
   "execution_count": null,
   "metadata": {},
   "outputs": [],
   "source": [
    "for num in numbers:\n",
    "    print(num)"
   ]
  },
  {
   "cell_type": "markdown",
   "metadata": {},
   "source": [
    "{: .source}"
   ]
  },
  {
   "cell_type": "code",
   "execution_count": null,
   "metadata": {},
   "outputs": [],
   "source": [
    "1\n",
    "2\n",
    "3"
   ]
  },
  {
   "cell_type": "markdown",
   "metadata": {},
   "source": [
    "{: .output}\n",
    "\n",
    "**Indentation** is very important in Python. Note that the second line in the\n",
    "example above is indented. This is Python's way of marking a block of code. We will\n",
    "discuss this in more detail later.\n",
    "\n",
    "To add elements to the end of a list, we can use the `append` method:"
   ]
  },
  {
   "cell_type": "code",
   "execution_count": null,
   "metadata": {},
   "outputs": [],
   "source": [
    "numbers.append(4)\n",
    "print(numbers)"
   ]
  },
  {
   "cell_type": "markdown",
   "metadata": {},
   "source": [
    "{: .source}"
   ]
  },
  {
   "cell_type": "code",
   "execution_count": null,
   "metadata": {},
   "outputs": [],
   "source": [
    "[1,2,3,4]"
   ]
  },
  {
   "cell_type": "markdown",
   "metadata": {},
   "source": [
    "{: .output}\n",
    "\n",
    "Methods are a way to interact with an object (a list, for example). We can invoke\n",
    "a method using the dot `.` followed by the method name and a list of arguments in parentheses.\n",
    "To find out what methods are available for an object, we can use the built-in `help` command:"
   ]
  },
  {
   "cell_type": "code",
   "execution_count": null,
   "metadata": {},
   "outputs": [],
   "source": [
    "help(numbers)"
   ]
  },
  {
   "cell_type": "markdown",
   "metadata": {},
   "source": [
    "{: .source}"
   ]
  },
  {
   "cell_type": "code",
   "execution_count": null,
   "metadata": {},
   "outputs": [],
   "source": [
    "Help on list object:\n",
    "\n",
    "class list(object)\n",
    " |  list() -> new empty list\n",
    " |  list(iterable) -> new list initialized from iterable's items\n",
    " ..."
   ]
  },
  {
   "cell_type": "markdown",
   "metadata": {},
   "source": [
    "{: .output}\n",
    "\n",
    "We can also access a list of methods available to an object using `dir`. Some methods names are\n",
    "surrounded by double underscores. Those methods are called \"special\", and\n",
    "usually we access them in a different way. For example `__add__` method is\n",
    "responsible for the `+` operator."
   ]
  },
  {
   "cell_type": "code",
   "execution_count": null,
   "metadata": {},
   "outputs": [],
   "source": [
    "dir(numbers)"
   ]
  },
  {
   "cell_type": "markdown",
   "metadata": {},
   "source": [
    "{: .source}"
   ]
  },
  {
   "cell_type": "code",
   "execution_count": null,
   "metadata": {},
   "outputs": [],
   "source": [
    "['__add__', '__class__', '__contains__', ...]"
   ]
  },
  {
   "cell_type": "markdown",
   "metadata": {},
   "source": [
    "{: .output}"
   ]
  }
 ],
 "metadata": {
  "kernelspec": {
   "display_name": "Python [default]",
   "language": "python",
   "name": "python3"
  },
  "language_info": {
   "codemirror_mode": {
    "name": "ipython",
    "version": 3
   },
   "file_extension": ".py",
   "mimetype": "text/x-python",
   "name": "python",
   "nbconvert_exporter": "python",
   "pygments_lexer": "ipython3",
   "version": "3.5.4"
  }
 },
 "nbformat": 4,
 "nbformat_minor": 2
}
