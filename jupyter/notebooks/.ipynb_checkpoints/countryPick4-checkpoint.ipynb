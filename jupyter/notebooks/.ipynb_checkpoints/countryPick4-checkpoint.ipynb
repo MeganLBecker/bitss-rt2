{
 "cells": [
  {
   "cell_type": "markdown",
   "metadata": {},
   "source": [
    "## Purpose\n",
    "\n",
    "The purpose of this report is to compare the population trends for four countries of your choosing.  In addition, this serves as an example of literate programming. Literate programming is a way to document how you performed your analysis. It serves as a guide to other to others (and your future self) how to reproduce your work. "
   ]
  },
  {
   "cell_type": "markdown",
   "metadata": {},
   "source": [
    "## Install and import modules "
   ]
  },
  {
   "cell_type": "code",
   "execution_count": 13,
   "metadata": {
    "collapsed": true
   },
   "outputs": [
    {
     "name": "stdout",
     "output_type": "stream",
     "text": [
      "Requirement already satisfied: gapminder in /Users/timdennis/anaconda3/lib/python3.5/site-packages (0.1)\n",
      "Requirement already satisfied: pandas in /Users/timdennis/anaconda3/lib/python3.5/site-packages (from gapminder) (0.23.4)\n",
      "Requirement already satisfied: python-dateutil>=2.5.0 in /Users/timdennis/anaconda3/lib/python3.5/site-packages (from pandas->gapminder) (2.6.1)\n",
      "Requirement already satisfied: pytz>=2011k in /Users/timdennis/anaconda3/lib/python3.5/site-packages (from pandas->gapminder) (2017.3)\n",
      "Requirement already satisfied: numpy>=1.9.0 in /Users/timdennis/anaconda3/lib/python3.5/site-packages (from pandas->gapminder) (1.14.3)\n",
      "Requirement already satisfied: six>=1.5 in /Users/timdennis/anaconda3/lib/python3.5/site-packages (from python-dateutil>=2.5.0->pandas->gapminder) (1.11.0)\n",
      "Solving environment: done\n",
      "\n",
      "# All requested packages already installed.\n",
      "\n"
     ]
    }
   ],
   "source": [
    "!conda install --yes seaborn;"
   ]
  },
  {
   "cell_type": "code",
   "execution_count": 51,
   "metadata": {},
   "outputs": [],
   "source": [
    "from gapminder import gapminder\n",
    "import pandas as pd\n",
    "import matplotlib.pyplot as plt"
   ]
  },
  {
   "cell_type": "code",
   "execution_count": 29,
   "metadata": {},
   "outputs": [],
   "source": [
    "%matplotlib inline"
   ]
  },
  {
   "cell_type": "markdown",
   "metadata": {},
   "source": [
    "## Data\n",
    "\n",
    "Always add as many details as possible about your data including where it came from, how it was processed, licensing, and where it can be accessed. \n",
    "\n",
    "- Gapminder data [available here](http://www.gapminder.org/data/). [Gapminder data is licensed CC-BY 3.0](https://docs.google.com/document/pub?id=1POd-pBMc5vDXAmxrpGjPLaCSDSWuxX6FLQgq5DhlUhM#h.ul2gu2-uwathz).\n",
    "\n",
    "- Processed data via Jeff Stafford, [Python module available here](https://pypi.org/project/gapminder/)\n",
    "). You can run `!pip install gapminder` to obtain the module. \n",
    "\n",
    "**Read in data**: To read in the data, make sure this file is in the same directory/folder as the `gapminderDataFiveYear.tsv` file. "
   ]
  },
  {
   "cell_type": "code",
   "execution_count": 13,
   "metadata": {},
   "outputs": [],
   "source": [
    "gap = pd.read_table('https://raw.githubusercontent.com/ucla-data-archive/bitss-rt2/master/jupyter/data/gapminderDataFiveYear.tsv', \n",
    "                   index_col='country')"
   ]
  },
  {
   "cell_type": "code",
   "execution_count": 14,
   "metadata": {},
   "outputs": [
    {
     "data": {
      "text/html": [
       "<div>\n",
       "<style scoped>\n",
       "    .dataframe tbody tr th:only-of-type {\n",
       "        vertical-align: middle;\n",
       "    }\n",
       "\n",
       "    .dataframe tbody tr th {\n",
       "        vertical-align: top;\n",
       "    }\n",
       "\n",
       "    .dataframe thead th {\n",
       "        text-align: right;\n",
       "    }\n",
       "</style>\n",
       "<table border=\"1\" class=\"dataframe\">\n",
       "  <thead>\n",
       "    <tr style=\"text-align: right;\">\n",
       "      <th></th>\n",
       "      <th>year</th>\n",
       "      <th>pop</th>\n",
       "      <th>continent</th>\n",
       "      <th>lifeExp</th>\n",
       "      <th>gdpPercap</th>\n",
       "    </tr>\n",
       "    <tr>\n",
       "      <th>country</th>\n",
       "      <th></th>\n",
       "      <th></th>\n",
       "      <th></th>\n",
       "      <th></th>\n",
       "      <th></th>\n",
       "    </tr>\n",
       "  </thead>\n",
       "  <tbody>\n",
       "    <tr>\n",
       "      <th>Afghanistan</th>\n",
       "      <td>1952</td>\n",
       "      <td>8425333.0</td>\n",
       "      <td>Asia</td>\n",
       "      <td>28.801</td>\n",
       "      <td>779.445314</td>\n",
       "    </tr>\n",
       "    <tr>\n",
       "      <th>Afghanistan</th>\n",
       "      <td>1957</td>\n",
       "      <td>9240934.0</td>\n",
       "      <td>Asia</td>\n",
       "      <td>30.332</td>\n",
       "      <td>820.853030</td>\n",
       "    </tr>\n",
       "    <tr>\n",
       "      <th>Afghanistan</th>\n",
       "      <td>1962</td>\n",
       "      <td>10267083.0</td>\n",
       "      <td>Asia</td>\n",
       "      <td>31.997</td>\n",
       "      <td>853.100710</td>\n",
       "    </tr>\n",
       "    <tr>\n",
       "      <th>Afghanistan</th>\n",
       "      <td>1967</td>\n",
       "      <td>11537966.0</td>\n",
       "      <td>Asia</td>\n",
       "      <td>34.020</td>\n",
       "      <td>836.197138</td>\n",
       "    </tr>\n",
       "    <tr>\n",
       "      <th>Afghanistan</th>\n",
       "      <td>1972</td>\n",
       "      <td>13079460.0</td>\n",
       "      <td>Asia</td>\n",
       "      <td>36.088</td>\n",
       "      <td>739.981106</td>\n",
       "    </tr>\n",
       "    <tr>\n",
       "      <th>Afghanistan</th>\n",
       "      <td>1977</td>\n",
       "      <td>14880372.0</td>\n",
       "      <td>Asia</td>\n",
       "      <td>38.438</td>\n",
       "      <td>786.113360</td>\n",
       "    </tr>\n",
       "    <tr>\n",
       "      <th>Afghanistan</th>\n",
       "      <td>1982</td>\n",
       "      <td>12881816.0</td>\n",
       "      <td>Asia</td>\n",
       "      <td>39.854</td>\n",
       "      <td>978.011439</td>\n",
       "    </tr>\n",
       "    <tr>\n",
       "      <th>Afghanistan</th>\n",
       "      <td>1987</td>\n",
       "      <td>13867957.0</td>\n",
       "      <td>Asia</td>\n",
       "      <td>40.822</td>\n",
       "      <td>852.395945</td>\n",
       "    </tr>\n",
       "    <tr>\n",
       "      <th>Afghanistan</th>\n",
       "      <td>1992</td>\n",
       "      <td>16317921.0</td>\n",
       "      <td>Asia</td>\n",
       "      <td>41.674</td>\n",
       "      <td>649.341395</td>\n",
       "    </tr>\n",
       "    <tr>\n",
       "      <th>Afghanistan</th>\n",
       "      <td>1997</td>\n",
       "      <td>22227415.0</td>\n",
       "      <td>Asia</td>\n",
       "      <td>41.763</td>\n",
       "      <td>635.341351</td>\n",
       "    </tr>\n",
       "    <tr>\n",
       "      <th>Afghanistan</th>\n",
       "      <td>2002</td>\n",
       "      <td>25268405.0</td>\n",
       "      <td>Asia</td>\n",
       "      <td>42.129</td>\n",
       "      <td>726.734055</td>\n",
       "    </tr>\n",
       "    <tr>\n",
       "      <th>Afghanistan</th>\n",
       "      <td>2007</td>\n",
       "      <td>31889923.0</td>\n",
       "      <td>Asia</td>\n",
       "      <td>43.828</td>\n",
       "      <td>974.580338</td>\n",
       "    </tr>\n",
       "    <tr>\n",
       "      <th>Albania</th>\n",
       "      <td>1952</td>\n",
       "      <td>1282697.0</td>\n",
       "      <td>Europe</td>\n",
       "      <td>55.230</td>\n",
       "      <td>1601.056136</td>\n",
       "    </tr>\n",
       "    <tr>\n",
       "      <th>Albania</th>\n",
       "      <td>1957</td>\n",
       "      <td>1476505.0</td>\n",
       "      <td>Europe</td>\n",
       "      <td>59.280</td>\n",
       "      <td>1942.284244</td>\n",
       "    </tr>\n",
       "    <tr>\n",
       "      <th>Albania</th>\n",
       "      <td>1962</td>\n",
       "      <td>1728137.0</td>\n",
       "      <td>Europe</td>\n",
       "      <td>64.820</td>\n",
       "      <td>2312.888958</td>\n",
       "    </tr>\n",
       "    <tr>\n",
       "      <th>Albania</th>\n",
       "      <td>1967</td>\n",
       "      <td>1984060.0</td>\n",
       "      <td>Europe</td>\n",
       "      <td>66.220</td>\n",
       "      <td>2760.196931</td>\n",
       "    </tr>\n",
       "    <tr>\n",
       "      <th>Albania</th>\n",
       "      <td>1972</td>\n",
       "      <td>2263554.0</td>\n",
       "      <td>Europe</td>\n",
       "      <td>67.690</td>\n",
       "      <td>3313.422188</td>\n",
       "    </tr>\n",
       "    <tr>\n",
       "      <th>Albania</th>\n",
       "      <td>1977</td>\n",
       "      <td>2509048.0</td>\n",
       "      <td>Europe</td>\n",
       "      <td>68.930</td>\n",
       "      <td>3533.003910</td>\n",
       "    </tr>\n",
       "    <tr>\n",
       "      <th>Albania</th>\n",
       "      <td>1982</td>\n",
       "      <td>2780097.0</td>\n",
       "      <td>Europe</td>\n",
       "      <td>70.420</td>\n",
       "      <td>3630.880722</td>\n",
       "    </tr>\n",
       "    <tr>\n",
       "      <th>Albania</th>\n",
       "      <td>1987</td>\n",
       "      <td>3075321.0</td>\n",
       "      <td>Europe</td>\n",
       "      <td>72.000</td>\n",
       "      <td>3738.932735</td>\n",
       "    </tr>\n",
       "    <tr>\n",
       "      <th>Albania</th>\n",
       "      <td>1992</td>\n",
       "      <td>3326498.0</td>\n",
       "      <td>Europe</td>\n",
       "      <td>71.581</td>\n",
       "      <td>2497.437901</td>\n",
       "    </tr>\n",
       "    <tr>\n",
       "      <th>Albania</th>\n",
       "      <td>1997</td>\n",
       "      <td>3428038.0</td>\n",
       "      <td>Europe</td>\n",
       "      <td>72.950</td>\n",
       "      <td>3193.054604</td>\n",
       "    </tr>\n",
       "    <tr>\n",
       "      <th>Albania</th>\n",
       "      <td>2002</td>\n",
       "      <td>3508512.0</td>\n",
       "      <td>Europe</td>\n",
       "      <td>75.651</td>\n",
       "      <td>4604.211737</td>\n",
       "    </tr>\n",
       "    <tr>\n",
       "      <th>Albania</th>\n",
       "      <td>2007</td>\n",
       "      <td>3600523.0</td>\n",
       "      <td>Europe</td>\n",
       "      <td>76.423</td>\n",
       "      <td>5937.029526</td>\n",
       "    </tr>\n",
       "    <tr>\n",
       "      <th>Algeria</th>\n",
       "      <td>1952</td>\n",
       "      <td>9279525.0</td>\n",
       "      <td>Africa</td>\n",
       "      <td>43.077</td>\n",
       "      <td>2449.008185</td>\n",
       "    </tr>\n",
       "    <tr>\n",
       "      <th>Algeria</th>\n",
       "      <td>1957</td>\n",
       "      <td>10270856.0</td>\n",
       "      <td>Africa</td>\n",
       "      <td>45.685</td>\n",
       "      <td>3013.976023</td>\n",
       "    </tr>\n",
       "    <tr>\n",
       "      <th>Algeria</th>\n",
       "      <td>1962</td>\n",
       "      <td>11000948.0</td>\n",
       "      <td>Africa</td>\n",
       "      <td>48.303</td>\n",
       "      <td>2550.816880</td>\n",
       "    </tr>\n",
       "    <tr>\n",
       "      <th>Algeria</th>\n",
       "      <td>1967</td>\n",
       "      <td>12760499.0</td>\n",
       "      <td>Africa</td>\n",
       "      <td>51.407</td>\n",
       "      <td>3246.991771</td>\n",
       "    </tr>\n",
       "    <tr>\n",
       "      <th>Algeria</th>\n",
       "      <td>1972</td>\n",
       "      <td>14760787.0</td>\n",
       "      <td>Africa</td>\n",
       "      <td>54.518</td>\n",
       "      <td>4182.663766</td>\n",
       "    </tr>\n",
       "    <tr>\n",
       "      <th>Algeria</th>\n",
       "      <td>1977</td>\n",
       "      <td>17152804.0</td>\n",
       "      <td>Africa</td>\n",
       "      <td>58.014</td>\n",
       "      <td>4910.416756</td>\n",
       "    </tr>\n",
       "    <tr>\n",
       "      <th>...</th>\n",
       "      <td>...</td>\n",
       "      <td>...</td>\n",
       "      <td>...</td>\n",
       "      <td>...</td>\n",
       "      <td>...</td>\n",
       "    </tr>\n",
       "    <tr>\n",
       "      <th>Yemen, Rep.</th>\n",
       "      <td>1982</td>\n",
       "      <td>9657618.0</td>\n",
       "      <td>Asia</td>\n",
       "      <td>49.113</td>\n",
       "      <td>1977.557010</td>\n",
       "    </tr>\n",
       "    <tr>\n",
       "      <th>Yemen, Rep.</th>\n",
       "      <td>1987</td>\n",
       "      <td>11219340.0</td>\n",
       "      <td>Asia</td>\n",
       "      <td>52.922</td>\n",
       "      <td>1971.741538</td>\n",
       "    </tr>\n",
       "    <tr>\n",
       "      <th>Yemen, Rep.</th>\n",
       "      <td>1992</td>\n",
       "      <td>13367997.0</td>\n",
       "      <td>Asia</td>\n",
       "      <td>55.599</td>\n",
       "      <td>1879.496673</td>\n",
       "    </tr>\n",
       "    <tr>\n",
       "      <th>Yemen, Rep.</th>\n",
       "      <td>1997</td>\n",
       "      <td>15826497.0</td>\n",
       "      <td>Asia</td>\n",
       "      <td>58.020</td>\n",
       "      <td>2117.484526</td>\n",
       "    </tr>\n",
       "    <tr>\n",
       "      <th>Yemen, Rep.</th>\n",
       "      <td>2002</td>\n",
       "      <td>18701257.0</td>\n",
       "      <td>Asia</td>\n",
       "      <td>60.308</td>\n",
       "      <td>2234.820827</td>\n",
       "    </tr>\n",
       "    <tr>\n",
       "      <th>Yemen, Rep.</th>\n",
       "      <td>2007</td>\n",
       "      <td>22211743.0</td>\n",
       "      <td>Asia</td>\n",
       "      <td>62.698</td>\n",
       "      <td>2280.769906</td>\n",
       "    </tr>\n",
       "    <tr>\n",
       "      <th>Zambia</th>\n",
       "      <td>1952</td>\n",
       "      <td>2672000.0</td>\n",
       "      <td>Africa</td>\n",
       "      <td>42.038</td>\n",
       "      <td>1147.388831</td>\n",
       "    </tr>\n",
       "    <tr>\n",
       "      <th>Zambia</th>\n",
       "      <td>1957</td>\n",
       "      <td>3016000.0</td>\n",
       "      <td>Africa</td>\n",
       "      <td>44.077</td>\n",
       "      <td>1311.956766</td>\n",
       "    </tr>\n",
       "    <tr>\n",
       "      <th>Zambia</th>\n",
       "      <td>1962</td>\n",
       "      <td>3421000.0</td>\n",
       "      <td>Africa</td>\n",
       "      <td>46.023</td>\n",
       "      <td>1452.725766</td>\n",
       "    </tr>\n",
       "    <tr>\n",
       "      <th>Zambia</th>\n",
       "      <td>1967</td>\n",
       "      <td>3900000.0</td>\n",
       "      <td>Africa</td>\n",
       "      <td>47.768</td>\n",
       "      <td>1777.077318</td>\n",
       "    </tr>\n",
       "    <tr>\n",
       "      <th>Zambia</th>\n",
       "      <td>1972</td>\n",
       "      <td>4506497.0</td>\n",
       "      <td>Africa</td>\n",
       "      <td>50.107</td>\n",
       "      <td>1773.498265</td>\n",
       "    </tr>\n",
       "    <tr>\n",
       "      <th>Zambia</th>\n",
       "      <td>1977</td>\n",
       "      <td>5216550.0</td>\n",
       "      <td>Africa</td>\n",
       "      <td>51.386</td>\n",
       "      <td>1588.688299</td>\n",
       "    </tr>\n",
       "    <tr>\n",
       "      <th>Zambia</th>\n",
       "      <td>1982</td>\n",
       "      <td>6100407.0</td>\n",
       "      <td>Africa</td>\n",
       "      <td>51.821</td>\n",
       "      <td>1408.678565</td>\n",
       "    </tr>\n",
       "    <tr>\n",
       "      <th>Zambia</th>\n",
       "      <td>1987</td>\n",
       "      <td>7272406.0</td>\n",
       "      <td>Africa</td>\n",
       "      <td>50.821</td>\n",
       "      <td>1213.315116</td>\n",
       "    </tr>\n",
       "    <tr>\n",
       "      <th>Zambia</th>\n",
       "      <td>1992</td>\n",
       "      <td>8381163.0</td>\n",
       "      <td>Africa</td>\n",
       "      <td>46.100</td>\n",
       "      <td>1210.884633</td>\n",
       "    </tr>\n",
       "    <tr>\n",
       "      <th>Zambia</th>\n",
       "      <td>1997</td>\n",
       "      <td>9417789.0</td>\n",
       "      <td>Africa</td>\n",
       "      <td>40.238</td>\n",
       "      <td>1071.353818</td>\n",
       "    </tr>\n",
       "    <tr>\n",
       "      <th>Zambia</th>\n",
       "      <td>2002</td>\n",
       "      <td>10595811.0</td>\n",
       "      <td>Africa</td>\n",
       "      <td>39.193</td>\n",
       "      <td>1071.613938</td>\n",
       "    </tr>\n",
       "    <tr>\n",
       "      <th>Zambia</th>\n",
       "      <td>2007</td>\n",
       "      <td>11746035.0</td>\n",
       "      <td>Africa</td>\n",
       "      <td>42.384</td>\n",
       "      <td>1271.211593</td>\n",
       "    </tr>\n",
       "    <tr>\n",
       "      <th>Zimbabwe</th>\n",
       "      <td>1952</td>\n",
       "      <td>3080907.0</td>\n",
       "      <td>Africa</td>\n",
       "      <td>48.451</td>\n",
       "      <td>406.884115</td>\n",
       "    </tr>\n",
       "    <tr>\n",
       "      <th>Zimbabwe</th>\n",
       "      <td>1957</td>\n",
       "      <td>3646340.0</td>\n",
       "      <td>Africa</td>\n",
       "      <td>50.469</td>\n",
       "      <td>518.764268</td>\n",
       "    </tr>\n",
       "    <tr>\n",
       "      <th>Zimbabwe</th>\n",
       "      <td>1962</td>\n",
       "      <td>4277736.0</td>\n",
       "      <td>Africa</td>\n",
       "      <td>52.358</td>\n",
       "      <td>527.272182</td>\n",
       "    </tr>\n",
       "    <tr>\n",
       "      <th>Zimbabwe</th>\n",
       "      <td>1967</td>\n",
       "      <td>4995432.0</td>\n",
       "      <td>Africa</td>\n",
       "      <td>53.995</td>\n",
       "      <td>569.795071</td>\n",
       "    </tr>\n",
       "    <tr>\n",
       "      <th>Zimbabwe</th>\n",
       "      <td>1972</td>\n",
       "      <td>5861135.0</td>\n",
       "      <td>Africa</td>\n",
       "      <td>55.635</td>\n",
       "      <td>799.362176</td>\n",
       "    </tr>\n",
       "    <tr>\n",
       "      <th>Zimbabwe</th>\n",
       "      <td>1977</td>\n",
       "      <td>6642107.0</td>\n",
       "      <td>Africa</td>\n",
       "      <td>57.674</td>\n",
       "      <td>685.587682</td>\n",
       "    </tr>\n",
       "    <tr>\n",
       "      <th>Zimbabwe</th>\n",
       "      <td>1982</td>\n",
       "      <td>7636524.0</td>\n",
       "      <td>Africa</td>\n",
       "      <td>60.363</td>\n",
       "      <td>788.855041</td>\n",
       "    </tr>\n",
       "    <tr>\n",
       "      <th>Zimbabwe</th>\n",
       "      <td>1987</td>\n",
       "      <td>9216418.0</td>\n",
       "      <td>Africa</td>\n",
       "      <td>62.351</td>\n",
       "      <td>706.157306</td>\n",
       "    </tr>\n",
       "    <tr>\n",
       "      <th>Zimbabwe</th>\n",
       "      <td>1992</td>\n",
       "      <td>10704340.0</td>\n",
       "      <td>Africa</td>\n",
       "      <td>60.377</td>\n",
       "      <td>693.420786</td>\n",
       "    </tr>\n",
       "    <tr>\n",
       "      <th>Zimbabwe</th>\n",
       "      <td>1997</td>\n",
       "      <td>11404948.0</td>\n",
       "      <td>Africa</td>\n",
       "      <td>46.809</td>\n",
       "      <td>792.449960</td>\n",
       "    </tr>\n",
       "    <tr>\n",
       "      <th>Zimbabwe</th>\n",
       "      <td>2002</td>\n",
       "      <td>11926563.0</td>\n",
       "      <td>Africa</td>\n",
       "      <td>39.989</td>\n",
       "      <td>672.038623</td>\n",
       "    </tr>\n",
       "    <tr>\n",
       "      <th>Zimbabwe</th>\n",
       "      <td>2007</td>\n",
       "      <td>12311143.0</td>\n",
       "      <td>Africa</td>\n",
       "      <td>43.487</td>\n",
       "      <td>469.709298</td>\n",
       "    </tr>\n",
       "  </tbody>\n",
       "</table>\n",
       "<p>1704 rows × 5 columns</p>\n",
       "</div>"
      ],
      "text/plain": [
       "             year         pop continent  lifeExp    gdpPercap\n",
       "country                                                      \n",
       "Afghanistan  1952   8425333.0      Asia   28.801   779.445314\n",
       "Afghanistan  1957   9240934.0      Asia   30.332   820.853030\n",
       "Afghanistan  1962  10267083.0      Asia   31.997   853.100710\n",
       "Afghanistan  1967  11537966.0      Asia   34.020   836.197138\n",
       "Afghanistan  1972  13079460.0      Asia   36.088   739.981106\n",
       "Afghanistan  1977  14880372.0      Asia   38.438   786.113360\n",
       "Afghanistan  1982  12881816.0      Asia   39.854   978.011439\n",
       "Afghanistan  1987  13867957.0      Asia   40.822   852.395945\n",
       "Afghanistan  1992  16317921.0      Asia   41.674   649.341395\n",
       "Afghanistan  1997  22227415.0      Asia   41.763   635.341351\n",
       "Afghanistan  2002  25268405.0      Asia   42.129   726.734055\n",
       "Afghanistan  2007  31889923.0      Asia   43.828   974.580338\n",
       "Albania      1952   1282697.0    Europe   55.230  1601.056136\n",
       "Albania      1957   1476505.0    Europe   59.280  1942.284244\n",
       "Albania      1962   1728137.0    Europe   64.820  2312.888958\n",
       "Albania      1967   1984060.0    Europe   66.220  2760.196931\n",
       "Albania      1972   2263554.0    Europe   67.690  3313.422188\n",
       "Albania      1977   2509048.0    Europe   68.930  3533.003910\n",
       "Albania      1982   2780097.0    Europe   70.420  3630.880722\n",
       "Albania      1987   3075321.0    Europe   72.000  3738.932735\n",
       "Albania      1992   3326498.0    Europe   71.581  2497.437901\n",
       "Albania      1997   3428038.0    Europe   72.950  3193.054604\n",
       "Albania      2002   3508512.0    Europe   75.651  4604.211737\n",
       "Albania      2007   3600523.0    Europe   76.423  5937.029526\n",
       "Algeria      1952   9279525.0    Africa   43.077  2449.008185\n",
       "Algeria      1957  10270856.0    Africa   45.685  3013.976023\n",
       "Algeria      1962  11000948.0    Africa   48.303  2550.816880\n",
       "Algeria      1967  12760499.0    Africa   51.407  3246.991771\n",
       "Algeria      1972  14760787.0    Africa   54.518  4182.663766\n",
       "Algeria      1977  17152804.0    Africa   58.014  4910.416756\n",
       "...           ...         ...       ...      ...          ...\n",
       "Yemen, Rep.  1982   9657618.0      Asia   49.113  1977.557010\n",
       "Yemen, Rep.  1987  11219340.0      Asia   52.922  1971.741538\n",
       "Yemen, Rep.  1992  13367997.0      Asia   55.599  1879.496673\n",
       "Yemen, Rep.  1997  15826497.0      Asia   58.020  2117.484526\n",
       "Yemen, Rep.  2002  18701257.0      Asia   60.308  2234.820827\n",
       "Yemen, Rep.  2007  22211743.0      Asia   62.698  2280.769906\n",
       "Zambia       1952   2672000.0    Africa   42.038  1147.388831\n",
       "Zambia       1957   3016000.0    Africa   44.077  1311.956766\n",
       "Zambia       1962   3421000.0    Africa   46.023  1452.725766\n",
       "Zambia       1967   3900000.0    Africa   47.768  1777.077318\n",
       "Zambia       1972   4506497.0    Africa   50.107  1773.498265\n",
       "Zambia       1977   5216550.0    Africa   51.386  1588.688299\n",
       "Zambia       1982   6100407.0    Africa   51.821  1408.678565\n",
       "Zambia       1987   7272406.0    Africa   50.821  1213.315116\n",
       "Zambia       1992   8381163.0    Africa   46.100  1210.884633\n",
       "Zambia       1997   9417789.0    Africa   40.238  1071.353818\n",
       "Zambia       2002  10595811.0    Africa   39.193  1071.613938\n",
       "Zambia       2007  11746035.0    Africa   42.384  1271.211593\n",
       "Zimbabwe     1952   3080907.0    Africa   48.451   406.884115\n",
       "Zimbabwe     1957   3646340.0    Africa   50.469   518.764268\n",
       "Zimbabwe     1962   4277736.0    Africa   52.358   527.272182\n",
       "Zimbabwe     1967   4995432.0    Africa   53.995   569.795071\n",
       "Zimbabwe     1972   5861135.0    Africa   55.635   799.362176\n",
       "Zimbabwe     1977   6642107.0    Africa   57.674   685.587682\n",
       "Zimbabwe     1982   7636524.0    Africa   60.363   788.855041\n",
       "Zimbabwe     1987   9216418.0    Africa   62.351   706.157306\n",
       "Zimbabwe     1992  10704340.0    Africa   60.377   693.420786\n",
       "Zimbabwe     1997  11404948.0    Africa   46.809   792.449960\n",
       "Zimbabwe     2002  11926563.0    Africa   39.989   672.038623\n",
       "Zimbabwe     2007  12311143.0    Africa   43.487   469.709298\n",
       "\n",
       "[1704 rows x 5 columns]"
      ]
     },
     "execution_count": 14,
     "metadata": {},
     "output_type": "execute_result"
    }
   ],
   "source": [
    "gap"
   ]
  },
  {
   "cell_type": "markdown",
   "metadata": {},
   "source": [
    "You can see what countries are available by looking at the how many unique categories are in the country column of the gapMinder dataset."
   ]
  },
  {
   "cell_type": "code",
   "execution_count": 41,
   "metadata": {},
   "outputs": [
    {
     "data": {
      "text/plain": [
       "array([1952, 1957, 1962, 1967, 1972, 1977, 1982, 1987, 1992, 1997, 2002,\n",
       "       2007])"
      ]
     },
     "execution_count": 41,
     "metadata": {},
     "output_type": "execute_result"
    }
   ],
   "source": [
    "pd.unique(gap['year'])"
   ]
  },
  {
   "cell_type": "code",
   "execution_count": 23,
   "metadata": {},
   "outputs": [
    {
     "data": {
      "text/html": [
       "<div>\n",
       "<style scoped>\n",
       "    .dataframe tbody tr th:only-of-type {\n",
       "        vertical-align: middle;\n",
       "    }\n",
       "\n",
       "    .dataframe tbody tr th {\n",
       "        vertical-align: top;\n",
       "    }\n",
       "\n",
       "    .dataframe thead th {\n",
       "        text-align: right;\n",
       "    }\n",
       "</style>\n",
       "<table border=\"1\" class=\"dataframe\">\n",
       "  <thead>\n",
       "    <tr style=\"text-align: right;\">\n",
       "      <th></th>\n",
       "      <th>year</th>\n",
       "      <th>pop</th>\n",
       "      <th>continent</th>\n",
       "      <th>lifeExp</th>\n",
       "      <th>gdpPercap</th>\n",
       "    </tr>\n",
       "    <tr>\n",
       "      <th>country</th>\n",
       "      <th></th>\n",
       "      <th></th>\n",
       "      <th></th>\n",
       "      <th></th>\n",
       "      <th></th>\n",
       "    </tr>\n",
       "  </thead>\n",
       "  <tbody>\n",
       "    <tr>\n",
       "      <th>Afghanistan</th>\n",
       "      <td>1952</td>\n",
       "      <td>8425333.0</td>\n",
       "      <td>Asia</td>\n",
       "      <td>28.801</td>\n",
       "      <td>779.445314</td>\n",
       "    </tr>\n",
       "    <tr>\n",
       "      <th>Afghanistan</th>\n",
       "      <td>1957</td>\n",
       "      <td>9240934.0</td>\n",
       "      <td>Asia</td>\n",
       "      <td>30.332</td>\n",
       "      <td>820.853030</td>\n",
       "    </tr>\n",
       "    <tr>\n",
       "      <th>Afghanistan</th>\n",
       "      <td>1962</td>\n",
       "      <td>10267083.0</td>\n",
       "      <td>Asia</td>\n",
       "      <td>31.997</td>\n",
       "      <td>853.100710</td>\n",
       "    </tr>\n",
       "    <tr>\n",
       "      <th>Afghanistan</th>\n",
       "      <td>1967</td>\n",
       "      <td>11537966.0</td>\n",
       "      <td>Asia</td>\n",
       "      <td>34.020</td>\n",
       "      <td>836.197138</td>\n",
       "    </tr>\n",
       "    <tr>\n",
       "      <th>Afghanistan</th>\n",
       "      <td>1972</td>\n",
       "      <td>13079460.0</td>\n",
       "      <td>Asia</td>\n",
       "      <td>36.088</td>\n",
       "      <td>739.981106</td>\n",
       "    </tr>\n",
       "  </tbody>\n",
       "</table>\n",
       "</div>"
      ],
      "text/plain": [
       "             year         pop continent  lifeExp   gdpPercap\n",
       "country                                                     \n",
       "Afghanistan  1952   8425333.0      Asia   28.801  779.445314\n",
       "Afghanistan  1957   9240934.0      Asia   30.332  820.853030\n",
       "Afghanistan  1962  10267083.0      Asia   31.997  853.100710\n",
       "Afghanistan  1967  11537966.0      Asia   34.020  836.197138\n",
       "Afghanistan  1972  13079460.0      Asia   36.088  739.981106"
      ]
     },
     "execution_count": 23,
     "metadata": {},
     "output_type": "execute_result"
    }
   ],
   "source": [
    "gap.head() #gap.tail() would show you the last part"
   ]
  },
  {
   "cell_type": "code",
   "execution_count": 22,
   "metadata": {},
   "outputs": [
    {
     "data": {
      "text/plain": [
       "year           int64\n",
       "pop          float64\n",
       "continent     object\n",
       "lifeExp      float64\n",
       "gdpPercap    float64\n",
       "dtype: object"
      ]
     },
     "execution_count": 22,
     "metadata": {},
     "output_type": "execute_result"
    }
   ],
   "source": [
    "#dtypes tells you what data types you have object = strings\n",
    "gap.dtypes"
   ]
  },
  {
   "cell_type": "code",
   "execution_count": 21,
   "metadata": {},
   "outputs": [
    {
     "data": {
      "text/plain": [
       "(1704, 5)"
      ]
     },
     "execution_count": 21,
     "metadata": {},
     "output_type": "execute_result"
    }
   ],
   "source": [
    "#shape gives you the diminsions \n",
    "gap.shape"
   ]
  },
  {
   "cell_type": "markdown",
   "metadata": {},
   "source": [
    "### Pick Four Countries\n",
    "\n",
    "Now pick four countries that you are intrested in.  Just replace with the countries name below.\n"
   ]
  },
  {
   "cell_type": "code",
   "execution_count": 24,
   "metadata": {},
   "outputs": [],
   "source": [
    "country_name1 = \"India\"\n",
    "country_name2 = \"United States\"\n",
    "country_name3 = \"Nigeria\"\n",
    "country_name4 = \"Germany\""
   ]
  },
  {
   "cell_type": "markdown",
   "metadata": {},
   "source": [
    "## Individual countries\n",
    "\n",
    "### Country One\n",
    "\n",
    "We want to look at how population changes over time for the first country.  "
   ]
  },
  {
   "cell_type": "code",
   "execution_count": 26,
   "metadata": {},
   "outputs": [],
   "source": [
    "country1 = gap.loc[country_name1]"
   ]
  },
  {
   "cell_type": "code",
   "execution_count": 27,
   "metadata": {},
   "outputs": [
    {
     "data": {
      "text/html": [
       "<div>\n",
       "<style scoped>\n",
       "    .dataframe tbody tr th:only-of-type {\n",
       "        vertical-align: middle;\n",
       "    }\n",
       "\n",
       "    .dataframe tbody tr th {\n",
       "        vertical-align: top;\n",
       "    }\n",
       "\n",
       "    .dataframe thead th {\n",
       "        text-align: right;\n",
       "    }\n",
       "</style>\n",
       "<table border=\"1\" class=\"dataframe\">\n",
       "  <thead>\n",
       "    <tr style=\"text-align: right;\">\n",
       "      <th></th>\n",
       "      <th>year</th>\n",
       "      <th>pop</th>\n",
       "      <th>continent</th>\n",
       "      <th>lifeExp</th>\n",
       "      <th>gdpPercap</th>\n",
       "    </tr>\n",
       "    <tr>\n",
       "      <th>country</th>\n",
       "      <th></th>\n",
       "      <th></th>\n",
       "      <th></th>\n",
       "      <th></th>\n",
       "      <th></th>\n",
       "    </tr>\n",
       "  </thead>\n",
       "  <tbody>\n",
       "    <tr>\n",
       "      <th>India</th>\n",
       "      <td>1952</td>\n",
       "      <td>372000000.0</td>\n",
       "      <td>Asia</td>\n",
       "      <td>37.373</td>\n",
       "      <td>546.565749</td>\n",
       "    </tr>\n",
       "    <tr>\n",
       "      <th>India</th>\n",
       "      <td>1957</td>\n",
       "      <td>409000000.0</td>\n",
       "      <td>Asia</td>\n",
       "      <td>40.249</td>\n",
       "      <td>590.061996</td>\n",
       "    </tr>\n",
       "    <tr>\n",
       "      <th>India</th>\n",
       "      <td>1962</td>\n",
       "      <td>454000000.0</td>\n",
       "      <td>Asia</td>\n",
       "      <td>43.605</td>\n",
       "      <td>658.347151</td>\n",
       "    </tr>\n",
       "    <tr>\n",
       "      <th>India</th>\n",
       "      <td>1967</td>\n",
       "      <td>506000000.0</td>\n",
       "      <td>Asia</td>\n",
       "      <td>47.193</td>\n",
       "      <td>700.770611</td>\n",
       "    </tr>\n",
       "    <tr>\n",
       "      <th>India</th>\n",
       "      <td>1972</td>\n",
       "      <td>567000000.0</td>\n",
       "      <td>Asia</td>\n",
       "      <td>50.651</td>\n",
       "      <td>724.032527</td>\n",
       "    </tr>\n",
       "  </tbody>\n",
       "</table>\n",
       "</div>"
      ],
      "text/plain": [
       "         year          pop continent  lifeExp   gdpPercap\n",
       "country                                                  \n",
       "India    1952  372000000.0      Asia   37.373  546.565749\n",
       "India    1957  409000000.0      Asia   40.249  590.061996\n",
       "India    1962  454000000.0      Asia   43.605  658.347151\n",
       "India    1967  506000000.0      Asia   47.193  700.770611\n",
       "India    1972  567000000.0      Asia   50.651  724.032527"
      ]
     },
     "execution_count": 27,
     "metadata": {},
     "output_type": "execute_result"
    }
   ],
   "source": [
    "country1.head()"
   ]
  },
  {
   "cell_type": "code",
   "execution_count": 43,
   "metadata": {},
   "outputs": [],
   "source": [
    "#ggplot(country1, aes(year, pop)) + \n",
    "#  geom_path() +\n",
    "#  ggtitle(countryName1) +\n",
    "#  theme(plot.title = element_text(size = 15, face = \"bold\")) "
   ]
  },
  {
   "cell_type": "code",
   "execution_count": 37,
   "metadata": {},
   "outputs": [
    {
     "data": {
      "text/plain": [
       "<matplotlib.axes._subplots.AxesSubplot at 0x11475c278>"
      ]
     },
     "execution_count": 37,
     "metadata": {},
     "output_type": "execute_result"
    },
    {
     "data": {
      "image/png": "[encoded data removed]",
      "text/plain": [
       "<Figure size 432x288 with 1 Axes>"
      ]
     },
     "metadata": {},
     "output_type": "display_data"
    }
   ],
   "source": [
    "country1.plot(x = 'year', y = 'pop', marker='.', \n",
    "              title=country_name1)"
   ]
  },
  {
   "cell_type": "markdown",
   "metadata": {},
   "source": [
    "This second graph is looking at the correlation between life expectancy (lifeExp) and GDP per person (gdpPercap). The size of the circles on the plot represents total population."
   ]
  },
  {
   "cell_type": "code",
   "execution_count": 93,
   "metadata": {},
   "outputs": [
    {
     "data": {
      "text/plain": [
       "Text(0.5,1,'India')"
      ]
     },
     "execution_count": 93,
     "metadata": {},
     "output_type": "execute_result"
    },
    {
     "data": {
      "image/png": "[encoded data removed]",
      "text/plain": [
       "<Figure size 432x288 with 1 Axes>"
      ]
     },
     "metadata": {},
     "output_type": "display_data"
    }
   ],
   "source": [
    "#ggplot(country1, aes(gdpPercap, lifeExp, size = pop)) + \n",
    "#  geom_point() +\n",
    "#  ggtitle(countryName1) +\n",
    "#\n",
    "#theme(plot.title = element_text(size = 15, face = \"bold\"))\n",
    "plt.style.use('ggplot')\n",
    "plt.scatter(country1.gdpPercap, country1.lifeExp, marker='.',\n",
    "            s=country1['pop'].astype(int)/1e6)\n",
    "plt.title(country_name1)"
   ]
  },
  {
   "cell_type": "markdown",
   "metadata": {},
   "source": [
    "### Country Two\n",
    "\n",
    "We will do this for each country. Since the code is very similar, we\n",
    "will omit viewing it below by adding the named parameter `echo=FALSE`\n",
    "(`TRUE` is the default):"
   ]
  },
  {
   "cell_type": "code",
   "execution_count": 83,
   "metadata": {},
   "outputs": [
    {
     "data": {
      "text/plain": [
       "<matplotlib.axes._subplots.AxesSubplot at 0x119bf3550>"
      ]
     },
     "execution_count": 83,
     "metadata": {},
     "output_type": "execute_result"
    },
    {
     "data": {
      "image/png": "[encoded data removed]",
      "text/plain": [
       "<Figure size 432x288 with 1 Axes>"
      ]
     },
     "metadata": {},
     "output_type": "display_data"
    }
   ],
   "source": [
    "country2 = gap.loc[country_name2]\n",
    "\n",
    "country2.plot(x = 'year', y = 'pop', marker='.', \n",
    "              title=country_name2)\n",
    "#ggplot(country2, aes(year, pop)) + \n",
    "#  geom_path() +\n",
    "#  ggtitle(countryName2) +\n",
    "#  theme(plot.title = element_text(size = 15, face = \"bold\"))"
   ]
  },
  {
   "cell_type": "markdown",
   "metadata": {},
   "source": [
    "**Notes**: In a real report you can add information about the results of the analysis you are performing.  That way your code, analysis, questions, and results are all in one place. \n"
   ]
  },
  {
   "cell_type": "code",
   "execution_count": 96,
   "metadata": {},
   "outputs": [
    {
     "data": {
      "text/plain": [
       "Text(0.5,1,'United States')"
      ]
     },
     "execution_count": 96,
     "metadata": {},
     "output_type": "execute_result"
    },
    {
     "data": {
      "image/png": "[encoded data removed]",
      "text/plain": [
       "<Figure size 432x288 with 1 Axes>"
      ]
     },
     "metadata": {},
     "output_type": "display_data"
    }
   ],
   "source": [
    "#ggplot(country2, aes(gdpPercap, lifeExp, size = pop)) + \n",
    "#  geom_point() +\n",
    "#  ggtitle(countryName2) +\n",
    "#  theme(plot.title = element_text(size = 15, face = \"bold\"))\n",
    "plt.style.use('ggplot')\n",
    "plt.scatter(country2.gdpPercap, country2.lifeExp, marker='.',\n",
    "            s=country2['pop'].astype(int)/1e5)\n",
    "plt.title(country_name2)"
   ]
  },
  {
   "cell_type": "markdown",
   "metadata": {},
   "source": [
    "### Country Three"
   ]
  },
  {
   "cell_type": "code",
   "execution_count": 98,
   "metadata": {},
   "outputs": [
    {
     "data": {
      "text/plain": [
       "Text(0.5,1,'Nigeria')"
      ]
     },
     "execution_count": 98,
     "metadata": {},
     "output_type": "execute_result"
    },
    {
     "data": {
      "image/png": "[encoded data removed]",
      "text/plain": [
       "<Figure size 432x288 with 1 Axes>"
      ]
     },
     "metadata": {},
     "output_type": "display_data"
    }
   ],
   "source": [
    "country3 = gap.loc[country_name3]\n",
    "\n",
    "#ggplot(country3, aes(year, pop)) + \n",
    "#  geom_path() +\n",
    "#  ggtitle(countryName3) +\n",
    "#  theme(plot.title = element_text(size = 15, face = \"bold\"))\n",
    "plt.plot(country3.gdpPercap, country3.lifeExp, marker='.')\n",
    "plt.title(country_name3)"
   ]
  },
  {
   "cell_type": "markdown",
   "metadata": {},
   "source": [
    "**Notes** Maybe a country has an unusual distribution and we want to label the graph with the year. We added `label = year` to the first line of the code below.  To display the text we also added the `geom_text(hjust = 1, vjust = 0, size = 5)` option."
   ]
  },
  {
   "cell_type": "code",
   "execution_count": 102,
   "metadata": {},
   "outputs": [
    {
     "data": {
      "text/plain": [
       "Text(0.5,1,'Nigeria')"
      ]
     },
     "execution_count": 102,
     "metadata": {},
     "output_type": "execute_result"
    },
    {
     "data": {
      "image/png": "[encoded data removed]",
      "text/plain": [
       "<Figure size 432x288 with 1 Axes>"
      ]
     },
     "metadata": {},
     "output_type": "display_data"
    }
   ],
   "source": [
    "#ggplot(country3, aes(gdpPercap, lifeExp, size = pop, label = year)) + \n",
    "#  geom_point() +\n",
    "#  geom_text(hjust = 1.3, vjust = 0, size = 3) +\n",
    "#  ggtitle(countryName3) +\n",
    "#  theme(plot.title = element_text(size = 15, face = \"bold\"))\n",
    "plt.scatter(country3.gdpPercap, country3.lifeExp, marker='.',\n",
    "            s=country3['pop'].astype(int)/1e6)\n",
    "plt.title(country_name3)"
   ]
  },
  {
   "cell_type": "markdown",
   "metadata": {},
   "source": [
    "### Country Four"
   ]
  },
  {
   "cell_type": "code",
   "execution_count": 103,
   "metadata": {},
   "outputs": [
    {
     "data": {
      "text/plain": [
       "Text(0.5,1,'Germany')"
      ]
     },
     "execution_count": 103,
     "metadata": {},
     "output_type": "execute_result"
    },
    {
     "data": {
      "image/png": "[encoded data removed]",
      "text/plain": [
       "<Figure size 432x288 with 1 Axes>"
      ]
     },
     "metadata": {},
     "output_type": "display_data"
    }
   ],
   "source": [
    "country4 = gap.loc[country_name4]\n",
    "\n",
    "#ggplot(country4, aes(year, pop)) + \n",
    "#  geom_path() +\n",
    "#  ggtitle(countryName4) +\n",
    "#  theme(plot.title = element_text(size=15, face = \"bold\"))\n",
    "plt.plot(country4.gdpPercap, country4.lifeExp, marker='.')\n",
    "plt.title(country_name4)"
   ]
  },
  {
   "cell_type": "markdown",
   "metadata": {},
   "source": [
    "**Notes**: Or we can try out labeling the year by adding color.\n"
   ]
  },
  {
   "cell_type": "code",
   "execution_count": 105,
   "metadata": {},
   "outputs": [
    {
     "data": {
      "text/plain": [
       "Text(0.5,1,'Germany')"
      ]
     },
     "execution_count": 105,
     "metadata": {},
     "output_type": "execute_result"
    },
    {
     "data": {
      "image/png": "[encoded data removed]",
      "text/plain": [
       "<Figure size 432x288 with 1 Axes>"
      ]
     },
     "metadata": {},
     "output_type": "display_data"
    }
   ],
   "source": [
    "#ggplot(country4, aes(gdpPercap, lifeExp, size = pop, color = year)) + \n",
    "#  geom_point() +\n",
    "#  ggtitle(countryName4) +\n",
    "#  theme(plot.title = element_text(size=15, face = \"bold\"))\n",
    "plt.scatter(country4.gdpPercap, country4.lifeExp, marker='.',\n",
    "            s=country4['pop'].astype(int)/1e5)\n",
    "plt.title(country_name4)"
   ]
  },
  {
   "cell_type": "markdown",
   "metadata": {},
   "source": [
    "## All four countries\n",
    "\n",
    "Let's add all four countries together and to see how they compare."
   ]
  },
  {
   "cell_type": "code",
   "execution_count": 106,
   "metadata": {},
   "outputs": [],
   "source": [
    "#Add subsetted data together\n",
    "allCountries = pd.concat([country1, country2, country3, country4])\n",
    "\n",
    "#Notice the code for this is similar to when we are just looking at one country\n",
    "#just with the added color option\n",
    "#ggplot(allCountries, aes(year, pop, color=country)) + \n",
    "#  geom_path() +\n",
    "#  xlab(\"Year\") + ylab(\"Population Size\") +\n",
    "#  ggtitle(\"All four countries\") +\n",
    "#  theme(plot.title = element_text(lineheight=.8, face = \"bold\"))"
   ]
  },
  {
   "cell_type": "markdown",
   "metadata": {},
   "source": [
    "What about what is occuring in a particular year?  You can change the year by changing the code in the `year == 2007` section.  To look at what years are possible use `allCountries$year`."
   ]
  },
  {
   "cell_type": "raw",
   "metadata": {},
   "source": [
    "yr <- 2007\n",
    "ggplot(subset(allCountries, year == yr),\n",
    "       aes(x = gdpPercap, y = lifeExp, color = country, size = pop)) + \n",
    "  scale_x_log10(limits = c(500, 90000)) + \n",
    "  geom_point(alpha = 0.8) + \n",
    "  scale_size_area(max_size = 14) +\n",
    "  theme_bw() + # black grid on white background\n",
    "  xlab(\"GDP per capita\") + ylab(\"Life Expectancy\") +\n",
    "  ggtitle(paste(\"All 4 countries in\", yr)) +\n",
    "  theme(plot.title = element_text(size = 15, face = \"bold\"))"
   ]
  },
  {
   "cell_type": "markdown",
   "metadata": {},
   "source": [
    "You can plot all the years at once also!\n"
   ]
  },
  {
   "cell_type": "raw",
   "metadata": {},
   "source": [
    "ggplot(allCountries,\n",
    "       aes(x = gdpPercap, y = lifeExp, color = country, size = pop)) + \n",
    "  scale_x_log10(limits = c(500, 90000)) +\n",
    "  ylim(c(30, 90)) +\n",
    "  geom_point(alpha = 0.8) + \n",
    "  scale_size_area(max_size = 14) +\n",
    "  theme_bw() +  # black grid on white background\n",
    "  xlab(\"GDP per capita\") + ylab(\"Life Expectancy\") +\n",
    "  ggtitle(\"All 4 countries\") +\n",
    "  theme(plot.title = element_text(size = 15, face = \"bold\"))"
   ]
  },
  {
   "cell_type": "markdown",
   "metadata": {},
   "source": [
    "## Conclusions\n",
    "\n",
    "In a real report you can add conclusions about your analysis or future plans for the project. The best part is that if you want to change something in your report you don't have to redo every step. You can just make the change and re-print the report."
   ]
  },
  {
   "cell_type": "code",
   "execution_count": null,
   "metadata": {},
   "outputs": [],
   "source": []
  }
 ],
 "metadata": {
  "kernelspec": {
   "display_name": "Python [conda env:anaconda3]",
   "language": "python",
   "name": "conda-env-anaconda3-py"
  },
  "language_info": {
   "codemirror_mode": {
    "name": "ipython",
    "version": 3
   },
   "file_extension": ".py",
   "mimetype": "text/x-python",
   "name": "python",
   "nbconvert_exporter": "python",
   "pygments_lexer": "ipython3",
   "version": "3.5.4"
  }
 },
 "nbformat": 4,
 "nbformat_minor": 2
}
